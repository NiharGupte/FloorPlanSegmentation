{
 "cells": [
  {
   "cell_type": "code",
   "execution_count": null,
   "id": "d8bafa85",
   "metadata": {},
   "outputs": [],
   "source": [
    "# ! pip install stats"
   ]
  },
  {
   "cell_type": "code",
   "execution_count": 25,
   "id": "93a10089",
   "metadata": {},
   "outputs": [],
   "source": [
    "i = Image.open('/workspace/submission/paper_2/fuse/Vander Henst_L.pdf_dir/2_Vander Henst_L.pdf.jpg')\n",
    "i = i.resize((2592, 1728))\n",
    "i.save('t.png')"
   ]
  },
  {
   "cell_type": "code",
   "execution_count": 22,
   "id": "ad8efd4f",
   "metadata": {},
   "outputs": [],
   "source": [
    "from pdfminer.layout import LAParams, LTTextBox, LTCurve, LTLine, LTFigure\n",
    "from pdfminer.pdfpage import PDFPage\n",
    "from pdfminer.pdfinterp import PDFResourceManager\n",
    "from pdfminer.pdfinterp import PDFPageInterpreter\n",
    "from pdfminer.converter import PDFPageAggregator\n",
    "import cv2\n",
    "from PyPDF2 import PdfReader\n",
    "import io\n",
    "from pdf2jpg import pdf2jpg\n",
    "from pathlib import Path\n",
    "from glob import glob\n",
    "import numpy as np\n",
    "import matplotlib.pyplot as plt\n",
    "from collections import Counter\n",
    "import stats\n",
    "import pandas as pd\n",
    "from PIL import Image"
   ]
  },
  {
   "cell_type": "code",
   "execution_count": 2,
   "id": "e3cdc84a",
   "metadata": {},
   "outputs": [],
   "source": [
    "w, h = 1728, 2592\n",
    "image = np.zeros((w, h), dtype='uint8')"
   ]
  },
  {
   "cell_type": "code",
   "execution_count": 3,
   "id": "4637891d",
   "metadata": {},
   "outputs": [],
   "source": [
    "dims = np.load('npys/dims_2_Vander Henst_L.npy')\n",
    "lines = np.load('npys/lines_2_Vander Henst_L.npy')\n",
    "lenghts = np.sqrt((lines.T[0]-lines.T[2])**2 + (lines.T[1]-lines.T[3])**2)\n",
    "lines = np.c_[lines, lenghts]"
   ]
  },
  {
   "cell_type": "code",
   "execution_count": 11,
   "id": "1287d7ff",
   "metadata": {},
   "outputs": [
    {
     "data": {
      "text/html": [
       "<div>\n",
       "<style scoped>\n",
       "    .dataframe tbody tr th:only-of-type {\n",
       "        vertical-align: middle;\n",
       "    }\n",
       "\n",
       "    .dataframe tbody tr th {\n",
       "        vertical-align: top;\n",
       "    }\n",
       "\n",
       "    .dataframe thead th {\n",
       "        text-align: right;\n",
       "    }\n",
       "</style>\n",
       "<table border=\"1\" class=\"dataframe\">\n",
       "  <thead>\n",
       "    <tr style=\"text-align: right;\">\n",
       "      <th></th>\n",
       "      <th>x1</th>\n",
       "      <th>y1</th>\n",
       "      <th>x2</th>\n",
       "      <th>y2</th>\n",
       "      <th>text</th>\n",
       "    </tr>\n",
       "  </thead>\n",
       "  <tbody>\n",
       "    <tr>\n",
       "      <th>0</th>\n",
       "      <td>2264.04234374688</td>\n",
       "      <td>1393.44</td>\n",
       "      <td>2270.28234374688</td>\n",
       "      <td>1398.11712</td>\n",
       "      <td>4\"</td>\n",
       "    </tr>\n",
       "    <tr>\n",
       "      <th>1</th>\n",
       "      <td>2264.04234374688</td>\n",
       "      <td>1379.16</td>\n",
       "      <td>2270.28234374688</td>\n",
       "      <td>1387.6204800000003</td>\n",
       "      <td>8-'9</td>\n",
       "    </tr>\n",
       "    <tr>\n",
       "      <th>2</th>\n",
       "      <td>409.32234374688</td>\n",
       "      <td>1213.68</td>\n",
       "      <td>415.56234374688</td>\n",
       "      <td>1218.35712</td>\n",
       "      <td>4\"</td>\n",
       "    </tr>\n",
       "    <tr>\n",
       "      <th>3</th>\n",
       "      <td>409.32234374688</td>\n",
       "      <td>1081.44</td>\n",
       "      <td>415.56234374688</td>\n",
       "      <td>1088.99712</td>\n",
       "      <td>42\"</td>\n",
       "    </tr>\n",
       "    <tr>\n",
       "      <th>4</th>\n",
       "      <td>2264.04234374688</td>\n",
       "      <td>1224.48</td>\n",
       "      <td>2270.28234374688</td>\n",
       "      <td>1229.15712</td>\n",
       "      <td>8\"</td>\n",
       "    </tr>\n",
       "  </tbody>\n",
       "</table>\n",
       "</div>"
      ],
      "text/plain": [
       "                 x1       y1                x2                  y2  text\n",
       "0  2264.04234374688  1393.44  2270.28234374688          1398.11712    4\"\n",
       "1  2264.04234374688  1379.16  2270.28234374688  1387.6204800000003  8-'9\n",
       "2   409.32234374688  1213.68   415.56234374688          1218.35712    4\"\n",
       "3   409.32234374688  1081.44   415.56234374688          1088.99712   42\"\n",
       "4  2264.04234374688  1224.48  2270.28234374688          1229.15712    8\""
      ]
     },
     "execution_count": 11,
     "metadata": {},
     "output_type": "execute_result"
    }
   ],
   "source": [
    "pd.DataFrame(columns=['x1', 'y1', 'x2', 'y2', 'text'], data=dims[:5])"
   ]
  },
  {
   "cell_type": "code",
   "execution_count": 12,
   "id": "887afc3f",
   "metadata": {},
   "outputs": [
    {
     "data": {
      "text/html": [
       "<div>\n",
       "<style scoped>\n",
       "    .dataframe tbody tr th:only-of-type {\n",
       "        vertical-align: middle;\n",
       "    }\n",
       "\n",
       "    .dataframe tbody tr th {\n",
       "        vertical-align: top;\n",
       "    }\n",
       "\n",
       "    .dataframe thead th {\n",
       "        text-align: right;\n",
       "    }\n",
       "</style>\n",
       "<table border=\"1\" class=\"dataframe\">\n",
       "  <thead>\n",
       "    <tr style=\"text-align: right;\">\n",
       "      <th></th>\n",
       "      <th>x1</th>\n",
       "      <th>y1</th>\n",
       "      <th>x2</th>\n",
       "      <th>y2</th>\n",
       "      <th>width</th>\n",
       "      <th>length</th>\n",
       "    </tr>\n",
       "  </thead>\n",
       "  <tbody>\n",
       "    <tr>\n",
       "      <th>0</th>\n",
       "      <td>2438.04</td>\n",
       "      <td>111.6</td>\n",
       "      <td>2438.04</td>\n",
       "      <td>116.04</td>\n",
       "      <td>4.0</td>\n",
       "      <td>4.44</td>\n",
       "    </tr>\n",
       "    <tr>\n",
       "      <th>1</th>\n",
       "      <td>2545.80</td>\n",
       "      <td>111.6</td>\n",
       "      <td>2545.80</td>\n",
       "      <td>54.00</td>\n",
       "      <td>4.0</td>\n",
       "      <td>57.60</td>\n",
       "    </tr>\n",
       "    <tr>\n",
       "      <th>2</th>\n",
       "      <td>2545.80</td>\n",
       "      <td>54.0</td>\n",
       "      <td>2438.04</td>\n",
       "      <td>54.00</td>\n",
       "      <td>4.0</td>\n",
       "      <td>107.76</td>\n",
       "    </tr>\n",
       "    <tr>\n",
       "      <th>3</th>\n",
       "      <td>2438.04</td>\n",
       "      <td>54.0</td>\n",
       "      <td>2438.04</td>\n",
       "      <td>111.60</td>\n",
       "      <td>4.0</td>\n",
       "      <td>57.60</td>\n",
       "    </tr>\n",
       "    <tr>\n",
       "      <th>4</th>\n",
       "      <td>2438.04</td>\n",
       "      <td>111.6</td>\n",
       "      <td>2545.80</td>\n",
       "      <td>111.60</td>\n",
       "      <td>4.0</td>\n",
       "      <td>107.76</td>\n",
       "    </tr>\n",
       "  </tbody>\n",
       "</table>\n",
       "</div>"
      ],
      "text/plain": [
       "        x1     y1       x2      y2  width  length\n",
       "0  2438.04  111.6  2438.04  116.04    4.0    4.44\n",
       "1  2545.80  111.6  2545.80   54.00    4.0   57.60\n",
       "2  2545.80   54.0  2438.04   54.00    4.0  107.76\n",
       "3  2438.04   54.0  2438.04  111.60    4.0   57.60\n",
       "4  2438.04  111.6  2545.80  111.60    4.0  107.76"
      ]
     },
     "execution_count": 12,
     "metadata": {},
     "output_type": "execute_result"
    }
   ],
   "source": [
    "pd.DataFrame(columns=['x1', 'y1', 'x2', 'y2', 'width', 'length'], data=lines[:5])"
   ]
  },
  {
   "cell_type": "code",
   "execution_count": 13,
   "id": "9dc292ce",
   "metadata": {},
   "outputs": [],
   "source": [
    "def point_dist(p1, p2):\n",
    "    return np.sqrt((p1[0]-p2[0])**2 + (p1[1]-p2[1])**2)"
   ]
  },
  {
   "cell_type": "code",
   "execution_count": 21,
   "id": "996d3086",
   "metadata": {},
   "outputs": [
    {
     "name": "stdout",
     "output_type": "stream",
     "text": [
      "28'\t\t\t336.00\t504.00\t0.67\n",
      "28'\t\t\t336.00\t504.00\t0.67\n",
      "14'\t\t\t168.00\t252.00\t0.67\n",
      "34'\t\t\t408.00\t612.00\t0.67\n",
      "35'\t\t\t420.00\t630.00\t0.67\n",
      "2'-8\"\t\t\t32.00\t1.08\t29.63\n",
      "13'\t\t\t156.00\t234.00\t0.67\n",
      "13'-9 1/2\"\t\t\t165.50\t248.28\t0.67\n",
      "3'-9 1/2\"\t\t\t45.50\t2.28\t19.96\n",
      "2'-6\"\t\t\t30.00\t45.00\t0.67\n",
      "13'-7 1/2\"\t\t\t163.50\t5.40\t30.28\n",
      "3'-9\"\t\t\t45.00\t67.56\t0.67\n",
      "2'-8\"\t\t\t32.00\t6.72\t4.76\n",
      "3'-6\"\t\t\t42.00\t6.84\t6.14\n",
      "5'\t\t\t60.00\t90.00\t0.67\n",
      "2'-8\"\t\t\t32.00\t6.72\t4.76\n",
      "18'-7\"\t\t\t223.00\t334.56\t0.67\n",
      "6'\t\t\t72.00\t108.00\t0.67\n",
      "4'-8\"\t\t\t56.00\t84.00\t0.67\n",
      "2'\t\t\t24.00\t216.02\t0.11\n",
      "8'\t\t\t96.00\t144.00\t0.67\n",
      "12'-3\"\t\t\t147.00\t220.44\t0.67\n",
      "12'-9\"\t\t\t153.00\t229.56\t0.67\n",
      "28'\t\t\t336.00\t504.00\t0.67\n",
      "28'\t\t\t336.00\t504.00\t0.67\n",
      "30'\t\t\t360.00\t540.00\t0.67\n",
      "2'\t\t\t24.00\t215.94\t0.11\n",
      "12'\t\t\t144.00\t216.00\t0.67\n",
      "6'\t\t\t72.00\t108.00\t0.67\n",
      "18'\t\t\t216.00\t324.00\t0.67\n"
     ]
    }
   ],
   "source": [
    "zero_width = lines.T[-2]==0\n",
    "\n",
    "line_indices = []\n",
    "per_pixel_inches = []\n",
    "for d in dims:\n",
    "    c = (float(d[0]) + float(d[2]))/2, (float(d[1]) + float(d[3]))/2\n",
    "    dists = []\n",
    "    for l in lines:\n",
    "        p1 = l[0], l[1]\n",
    "        p2 = l[2], l[3]\n",
    "        dists.append(point_dist(c, p1))\n",
    "        dists.append(point_dist(c, p2))\n",
    "    l0, l1 = sorted(dists)[:2]\n",
    "    line_indices.append(dists.index(l0)//2)\n",
    "    line_indices.append(dists.index(l1)//2)\n",
    "    len1 = lenghts[dists.index(l0)//2]\n",
    "    len2 = lenghts[dists.index(l1)//2]\n",
    "    line1 = lines[dists.index(l0)//2]\n",
    "    line2 = lines[dists.index(l1)//2]\n",
    "    \n",
    "    p1, p2 = (line1[0], line1[1]), (line1[2], line1[3])\n",
    "    p3, p4 = (line2[0], line2[1]), (line2[2], line2[3])\n",
    "    \n",
    "    final_dist = max(point_dist(p1, p3), point_dist(p1, p4), point_dist(p2, p3), point_dist(p2, p4))\n",
    "    len_ratio = abs(1-(len1/len2))\n",
    "    if len_ratio<1e-2 and \"'\" in d[-1]:\n",
    "        if not d[-1] == \"'\":\n",
    "            feet = d[-1].split(\"'\")[0]\n",
    "            inches = d[-1].split(\"'\")[1]\n",
    "            inches = inches.replace('-', '')\n",
    "            inches = inches.replace('\"', '')\n",
    "            if inches == '': inches = '0'\n",
    "            if feet.isnumeric():\n",
    "                inches = inches.split(' ')\n",
    "                frac = 0\n",
    "                if len(inches)>1: \n",
    "                    frac = inches[1]\n",
    "                    frac = int(frac.split('/')[0])/int(frac.split('/')[1])\n",
    "                inches = int(inches[0]) + frac\n",
    "                tot_inches = (int(feet)*12) + inches\n",
    "                txt = d[-1].replace('\\t', ' ')\n",
    "                print(f\"{txt}\\t\\t\\t{tot_inches:.2f}\\t{final_dist:.2f}\\t{tot_inches/final_dist:.2f}\")\n",
    "                per_pixel_inches.append(tot_inches/final_dist)"
   ]
  },
  {
   "cell_type": "code",
   "execution_count": 6,
   "id": "9ada9132",
   "metadata": {},
   "outputs": [
    {
     "data": {
      "text/plain": [
       "0.6666666666666666"
      ]
     },
     "execution_count": 6,
     "metadata": {},
     "output_type": "execute_result"
    }
   ],
   "source": [
    "stats.mode(np.array(per_pixel_inches))"
   ]
  },
  {
   "cell_type": "code",
   "execution_count": 33,
   "id": "0de37e43",
   "metadata": {},
   "outputs": [
    {
     "data": {
      "text/plain": [
       "28.055555555555557"
      ]
     },
     "execution_count": 33,
     "metadata": {},
     "output_type": "execute_result"
    }
   ],
   "source": [
    "((998-493)*2/3)/12"
   ]
  },
  {
   "cell_type": "code",
   "execution_count": 36,
   "id": "5c0f0425",
   "metadata": {},
   "outputs": [
    {
     "data": {
      "text/plain": [
       "4.0"
      ]
     },
     "execution_count": 36,
     "metadata": {},
     "output_type": "execute_result"
    }
   ],
   "source": [
    "((490-418)*2/3)/12"
   ]
  },
  {
   "cell_type": "code",
   "execution_count": null,
   "id": "f836f23b",
   "metadata": {},
   "outputs": [],
   "source": []
  },
  {
   "cell_type": "code",
   "execution_count": null,
   "id": "bb810544",
   "metadata": {},
   "outputs": [],
   "source": []
  },
  {
   "cell_type": "code",
   "execution_count": null,
   "id": "914caa57",
   "metadata": {},
   "outputs": [],
   "source": []
  },
  {
   "cell_type": "code",
   "execution_count": null,
   "id": "6de73815",
   "metadata": {},
   "outputs": [],
   "source": []
  },
  {
   "cell_type": "code",
   "execution_count": 28,
   "id": "3dcf8efd",
   "metadata": {},
   "outputs": [
    {
     "data": {
      "text/plain": [
       "28.0"
      ]
     },
     "execution_count": 28,
     "metadata": {},
     "output_type": "execute_result"
    }
   ],
   "source": [
    "((1160-656)*2/3)/12"
   ]
  },
  {
   "cell_type": "code",
   "execution_count": 30,
   "id": "7123a537",
   "metadata": {},
   "outputs": [
    {
     "data": {
      "text/plain": [
       "4.0"
      ]
     },
     "execution_count": 30,
     "metadata": {},
     "output_type": "execute_result"
    }
   ],
   "source": [
    "((528-456)*2/3)/12"
   ]
  },
  {
   "cell_type": "code",
   "execution_count": null,
   "id": "c0e4ea52",
   "metadata": {},
   "outputs": [],
   "source": [
    "# 2/3 inches == 1 pixel\n",
    "# 656-1160"
   ]
  },
  {
   "cell_type": "code",
   "execution_count": 8,
   "id": "ca66bc43",
   "metadata": {},
   "outputs": [
    {
     "data": {
      "text/plain": [
       "[0.6666666666666666,\n",
       " 0.6666666666666666,\n",
       " 0.6666666666666666,\n",
       " 0.6666666666666666,\n",
       " 0.6666666666666666,\n",
       " 29.629629629631626,\n",
       " 0.6666666666666666,\n",
       " 0.6665861124536814,\n",
       " 19.956140350877433,\n",
       " 0.6666666666666666,\n",
       " 30.277777777777267,\n",
       " 0.6660746003552392,\n",
       " 4.761904761904823,\n",
       " 6.140350877192954,\n",
       " 0.6666666666666666,\n",
       " 4.761904761904823,\n",
       " 0.6665471066475369,\n",
       " 0.6666666666666666,\n",
       " 0.6666666666666666,\n",
       " 0.11110286442985536,\n",
       " 0.6666666666666666,\n",
       " 0.6668481219379422,\n",
       " 0.666492420282279,\n",
       " 0.6666666666666666,\n",
       " 0.6666666666666666,\n",
       " 0.6666666666666666,\n",
       " 0.1111418337253251,\n",
       " 0.6666666666666666,\n",
       " 0.6666666666666666,\n",
       " 0.6666666666666666]"
      ]
     },
     "execution_count": 8,
     "metadata": {},
     "output_type": "execute_result"
    }
   ],
   "source": [
    "per_pixel_inches"
   ]
  },
  {
   "cell_type": "code",
   "execution_count": null,
   "id": "5567999e",
   "metadata": {},
   "outputs": [],
   "source": []
  },
  {
   "cell_type": "code",
   "execution_count": 20,
   "id": "d88b3030",
   "metadata": {},
   "outputs": [
    {
     "data": {
      "text/plain": [
       "True"
      ]
     },
     "execution_count": 20,
     "metadata": {},
     "output_type": "execute_result"
    }
   ],
   "source": [
    "cv2.imwrite('a2.png', image)"
   ]
  },
  {
   "cell_type": "code",
   "execution_count": 49,
   "id": "ba98daec",
   "metadata": {},
   "outputs": [],
   "source": [
    "line_indices = []\n",
    "for d in dims:\n",
    "    c = (float(d[0]) + float(d[2]))/2, (float(d[1]) + float(d[3]))/2\n",
    "    dists = []\n",
    "    for l in lines:\n",
    "        p1 = l[0], l[1]\n",
    "        p2 = l[2], l[3]\n",
    "        dists.append(point_dist(c, p1))\n",
    "        dists.append(point_dist(c, p2))\n",
    "    l0, l1 = sorted(dists)[:2]\n",
    "    line_indices.append(dists.index(l0)//2)\n",
    "    line_indices.append(dists.index(l1)//2)"
   ]
  },
  {
   "cell_type": "code",
   "execution_count": 50,
   "id": "d691d27a",
   "metadata": {},
   "outputs": [],
   "source": [
    "# dlines = lines[list(set(line_indices))]\n",
    "# for l in dlines:\n",
    "#     p1 = int(l[0]), w-int(l[1])\n",
    "#     p2 = int(l[2]), w-int(l[3])\n",
    "#     image = cv2.line(image, p1, p2, 255, 2, 1)"
   ]
  },
  {
   "cell_type": "code",
   "execution_count": 51,
   "id": "bb6f9598",
   "metadata": {},
   "outputs": [
    {
     "data": {
      "text/plain": [
       "<matplotlib.image.AxesImage at 0x7f3011e3d400>"
      ]
     },
     "execution_count": 51,
     "metadata": {},
     "output_type": "execute_result"
    },
    {
     "data": {
      "image/png": "[encoded data removed]",
      "text/plain": [
       "<Figure size 432x288 with 1 Axes>"
      ]
     },
     "metadata": {
      "needs_background": "light"
     },
     "output_type": "display_data"
    }
   ],
   "source": [
    "plt.imshow(image)"
   ]
  },
  {
   "cell_type": "code",
   "execution_count": null,
   "id": "cb2382fd",
   "metadata": {},
   "outputs": [],
   "source": []
  },
  {
   "cell_type": "code",
   "execution_count": 52,
   "id": "e0d724cb",
   "metadata": {},
   "outputs": [],
   "source": [
    "values_1 = []\n",
    "values_2 = []\n",
    "d = dict(Counter(lines.T[0]))\n",
    "values_1 += [k for k, v in d.items() if v>50]\n",
    "# d0 = sorted(d.items(), key = lambda x:x[1], reverse=True)\n",
    "d = dict(Counter(lines.T[1]))\n",
    "values_1 += [k for k, v in d.items() if v>50]\n",
    "# d1 = sorted(d.items(), key = lambda x:x[1], reverse=True)\n",
    "d = dict(Counter(lines.T[2]))\n",
    "values_2 += [k for k, v in d.items() if v>50]\n",
    "# d2 = sorted(d.items(), key = lambda x:x[1], reverse=True)\n",
    "d = dict(Counter(lines.T[3]))\n",
    "values_2 += [k for k, v in d.items() if v>50]\n",
    "# d3 = sorted(d.items(), key = lambda x:x[1], reverse=True)"
   ]
  },
  {
   "cell_type": "code",
   "execution_count": 53,
   "id": "2fd6371a",
   "metadata": {},
   "outputs": [
    {
     "data": {
      "text/plain": [
       "(74, 43)"
      ]
     },
     "execution_count": 53,
     "metadata": {},
     "output_type": "execute_result"
    }
   ],
   "source": [
    "len(set(values_1)), len(set(values_2))"
   ]
  },
  {
   "cell_type": "code",
   "execution_count": 54,
   "id": "f2fafe87",
   "metadata": {},
   "outputs": [],
   "source": [
    "dashes = np.isin(lines.T[0], values_1)\n",
    "dlines = lines[dashes]\n",
    "for l in dlines:\n",
    "    p1 = int(l[0]), w-int(l[1])\n",
    "    p2 = int(l[2]), w-int(l[3])\n",
    "    image = cv2.line(image, p1, p2, 255, 2, 1)\n",
    "    \n",
    "dashes = np.isin(lines.T[1], values_2)\n",
    "dlines = lines[dashes]\n",
    "for l in dlines:\n",
    "    p1 = int(l[0]), w-int(l[1])\n",
    "    p2 = int(l[2]), w-int(l[3])\n",
    "    image = cv2.line(image, p1, p2, 255, 2, 1)"
   ]
  },
  {
   "cell_type": "code",
   "execution_count": 55,
   "id": "dfd1d9b9",
   "metadata": {},
   "outputs": [
    {
     "data": {
      "text/plain": [
       "<matplotlib.image.AxesImage at 0x7f300f55f6d0>"
      ]
     },
     "execution_count": 55,
     "metadata": {},
     "output_type": "execute_result"
    },
    {
     "data": {
      "image/png": "[encoded data removed]",
      "text/plain": [
       "<Figure size 432x288 with 1 Axes>"
      ]
     },
     "metadata": {
      "needs_background": "light"
     },
     "output_type": "display_data"
    }
   ],
   "source": [
    "plt.imshow(image)"
   ]
  },
  {
   "cell_type": "code",
   "execution_count": 56,
   "id": "8b1a7b90",
   "metadata": {},
   "outputs": [
    {
     "data": {
      "text/plain": [
       "True"
      ]
     },
     "execution_count": 56,
     "metadata": {},
     "output_type": "execute_result"
    }
   ],
   "source": [
    "cv2.imwrite('a2.png', image)"
   ]
  },
  {
   "cell_type": "code",
   "execution_count": null,
   "id": "ec78b78e",
   "metadata": {},
   "outputs": [],
   "source": []
  }
 ],
 "metadata": {
  "kernelspec": {
   "display_name": "Python 3 (ipykernel)",
   "language": "python",
   "name": "python3"
  },
  "language_info": {
   "codemirror_mode": {
    "name": "ipython",
    "version": 3
   },
   "file_extension": ".py",
   "mimetype": "text/x-python",
   "name": "python",
   "nbconvert_exporter": "python",
   "pygments_lexer": "ipython3",
   "version": "3.8.13"
  }
 },
 "nbformat": 4,
 "nbformat_minor": 5
}
